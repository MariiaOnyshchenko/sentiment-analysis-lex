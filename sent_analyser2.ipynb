{
  "cells": [
    {
      "cell_type": "code",
      "execution_count": 60,
      "id": "74343d73",
      "metadata": {
        "colab": {
          "base_uri": "https://localhost:8080/"
        },
        "id": "74343d73",
        "outputId": "8dd796b6-3436-44a9-c398-dff56708a537"
      },
      "outputs": [
        {
          "output_type": "stream",
          "name": "stdout",
          "text": [
            "Requirement already satisfied: pymorphy3 in /usr/local/lib/python3.10/dist-packages (2.0.1)\n",
            "Requirement already satisfied: dawg-python>=0.7.1 in /usr/local/lib/python3.10/dist-packages (from pymorphy3) (0.7.2)\n",
            "Requirement already satisfied: pymorphy3-dicts-ru in /usr/local/lib/python3.10/dist-packages (from pymorphy3) (2.4.417150.4580142)\n",
            "Requirement already satisfied: pymorphy3-dicts-uk in /usr/local/lib/python3.10/dist-packages (2.4.1.1.1663094765)\n",
            "Requirement already satisfied: emoji in /usr/local/lib/python3.10/dist-packages (2.12.1)\n",
            "Collecting typing-extensions>=4.7.0 (from emoji)\n",
            "  Downloading typing_extensions-4.12.0-py3-none-any.whl (37 kB)\n",
            "Installing collected packages: typing-extensions\n",
            "  Attempting uninstall: typing-extensions\n",
            "    Found existing installation: typing_extensions 4.5.0\n",
            "    Uninstalling typing_extensions-4.5.0:\n",
            "      Successfully uninstalled typing_extensions-4.5.0\n",
            "\u001b[31mERROR: pip's dependency resolver does not currently take into account all the packages that are installed. This behaviour is the source of the following dependency conflicts.\n",
            "inflect 7.0.0 requires pydantic>=1.9.1, but you have pydantic 1.8.2 which is incompatible.\n",
            "spacy 3.2.6 requires typing-extensions<4.6.0,>=3.7.4.1, but you have typing-extensions 4.12.0 which is incompatible.\n",
            "torchaudio 2.3.0+cu121 requires torch==2.3.0, but you have torch 2.1.2 which is incompatible.\n",
            "torchtext 0.18.0 requires torch>=2.3.0, but you have torch 2.1.2 which is incompatible.\n",
            "torchvision 0.18.0+cu121 requires torch==2.3.0, but you have torch 2.1.2 which is incompatible.\u001b[0m\u001b[31m\n",
            "\u001b[0mSuccessfully installed typing-extensions-4.12.0\n",
            "Requirement already satisfied: demoji in /usr/local/lib/python3.10/dist-packages (1.1.0)\n",
            "Requirement already satisfied: deep-translator in /usr/local/lib/python3.10/dist-packages (1.11.4)\n",
            "Requirement already satisfied: beautifulsoup4<5.0.0,>=4.9.1 in /usr/local/lib/python3.10/dist-packages (from deep-translator) (4.12.3)\n",
            "Requirement already satisfied: requests<3.0.0,>=2.23.0 in /usr/local/lib/python3.10/dist-packages (from deep-translator) (2.31.0)\n",
            "Requirement already satisfied: soupsieve>1.2 in /usr/local/lib/python3.10/dist-packages (from beautifulsoup4<5.0.0,>=4.9.1->deep-translator) (2.5)\n",
            "Requirement already satisfied: charset-normalizer<4,>=2 in /usr/local/lib/python3.10/dist-packages (from requests<3.0.0,>=2.23.0->deep-translator) (3.3.2)\n",
            "Requirement already satisfied: idna<4,>=2.5 in /usr/local/lib/python3.10/dist-packages (from requests<3.0.0,>=2.23.0->deep-translator) (3.7)\n",
            "Requirement already satisfied: urllib3<3,>=1.21.1 in /usr/local/lib/python3.10/dist-packages (from requests<3.0.0,>=2.23.0->deep-translator) (2.0.7)\n",
            "Requirement already satisfied: certifi>=2017.4.17 in /usr/local/lib/python3.10/dist-packages (from requests<3.0.0,>=2.23.0->deep-translator) (2024.2.2)\n"
          ]
        }
      ],
      "source": [
        "!pip install pymorphy3\n",
        "!pip install -U pymorphy3-dicts-uk\n",
        "!pip install emoji\n",
        "!pip install demoji\n",
        "!pip install deep-translator"
      ]
    },
    {
      "cell_type": "code",
      "execution_count": 61,
      "id": "936fdab7",
      "metadata": {
        "id": "936fdab7"
      },
      "outputs": [],
      "source": [
        "import pymorphy3\n",
        "import re\n",
        "import demoji\n",
        "import emoji\n",
        "from deep_translator import GoogleTranslator\n",
        "morph = pymorphy3.MorphAnalyzer(lang='uk')"
      ]
    },
    {
      "cell_type": "code",
      "execution_count": 62,
      "id": "g93CaRCvVsAN",
      "metadata": {
        "colab": {
          "base_uri": "https://localhost:8080/"
        },
        "id": "g93CaRCvVsAN",
        "outputId": "d84585ab-a5a2-417e-fc11-aed4bb9bcd10"
      },
      "outputs": [
        {
          "output_type": "stream",
          "name": "stdout",
          "text": [
            "Collecting uk-core-news-trf==any\n",
            "  Downloading https://huggingface.co/ukr-models/uk_core_news_trf/resolve/main/uk_core_news_trf-any-py3-none-any.whl (414.3 MB)\n",
            "\u001b[2K     \u001b[90m━━━━━━━━━━━━━━━━━━━━━━━━━━━━━━━━━━━━━━━━\u001b[0m \u001b[32m414.3/414.3 MB\u001b[0m \u001b[31m923.7 kB/s\u001b[0m eta \u001b[36m0:00:00\u001b[0m\n",
            "\u001b[?25hRequirement already satisfied: spacy<3.3.0,>=3.2.4 in /usr/local/lib/python3.10/dist-packages (from uk-core-news-trf==any) (3.2.6)\n",
            "Requirement already satisfied: spacy-transformers<1.2.0,>=1.1.5 in /usr/local/lib/python3.10/dist-packages (from uk-core-news-trf==any) (1.1.7)\n",
            "Requirement already satisfied: spacy-legacy<3.1.0,>=3.0.8 in /usr/local/lib/python3.10/dist-packages (from spacy<3.3.0,>=3.2.4->uk-core-news-trf==any) (3.0.12)\n",
            "Requirement already satisfied: spacy-loggers<2.0.0,>=1.0.0 in /usr/local/lib/python3.10/dist-packages (from spacy<3.3.0,>=3.2.4->uk-core-news-trf==any) (1.0.5)\n",
            "Requirement already satisfied: murmurhash<1.1.0,>=0.28.0 in /usr/local/lib/python3.10/dist-packages (from spacy<3.3.0,>=3.2.4->uk-core-news-trf==any) (1.0.10)\n",
            "Requirement already satisfied: cymem<2.1.0,>=2.0.2 in /usr/local/lib/python3.10/dist-packages (from spacy<3.3.0,>=3.2.4->uk-core-news-trf==any) (2.0.8)\n",
            "Requirement already satisfied: preshed<3.1.0,>=3.0.2 in /usr/local/lib/python3.10/dist-packages (from spacy<3.3.0,>=3.2.4->uk-core-news-trf==any) (3.0.9)\n",
            "Requirement already satisfied: thinc<8.1.0,>=8.0.12 in /usr/local/lib/python3.10/dist-packages (from spacy<3.3.0,>=3.2.4->uk-core-news-trf==any) (8.0.17)\n",
            "Requirement already satisfied: blis<0.8.0,>=0.4.0 in /usr/local/lib/python3.10/dist-packages (from spacy<3.3.0,>=3.2.4->uk-core-news-trf==any) (0.7.11)\n",
            "Requirement already satisfied: wasabi<1.1.0,>=0.8.1 in /usr/local/lib/python3.10/dist-packages (from spacy<3.3.0,>=3.2.4->uk-core-news-trf==any) (0.10.1)\n",
            "Requirement already satisfied: srsly<3.0.0,>=2.4.1 in /usr/local/lib/python3.10/dist-packages (from spacy<3.3.0,>=3.2.4->uk-core-news-trf==any) (2.4.8)\n",
            "Requirement already satisfied: catalogue<2.1.0,>=2.0.6 in /usr/local/lib/python3.10/dist-packages (from spacy<3.3.0,>=3.2.4->uk-core-news-trf==any) (2.0.10)\n",
            "Requirement already satisfied: typer<0.5.0,>=0.3.0 in /usr/local/lib/python3.10/dist-packages (from spacy<3.3.0,>=3.2.4->uk-core-news-trf==any) (0.4.2)\n",
            "Requirement already satisfied: pathy>=0.3.5 in /usr/local/lib/python3.10/dist-packages (from spacy<3.3.0,>=3.2.4->uk-core-news-trf==any) (0.11.0)\n",
            "Requirement already satisfied: smart-open<7.0.0,>=5.2.1 in /usr/local/lib/python3.10/dist-packages (from spacy<3.3.0,>=3.2.4->uk-core-news-trf==any) (6.4.0)\n",
            "Requirement already satisfied: tqdm<5.0.0,>=4.38.0 in /usr/local/lib/python3.10/dist-packages (from spacy<3.3.0,>=3.2.4->uk-core-news-trf==any) (4.66.4)\n",
            "Requirement already satisfied: numpy>=1.15.0 in /usr/local/lib/python3.10/dist-packages (from spacy<3.3.0,>=3.2.4->uk-core-news-trf==any) (1.25.2)\n",
            "Requirement already satisfied: requests<3.0.0,>=2.13.0 in /usr/local/lib/python3.10/dist-packages (from spacy<3.3.0,>=3.2.4->uk-core-news-trf==any) (2.31.0)\n",
            "Requirement already satisfied: pydantic!=1.8,!=1.8.1,<1.9.0,>=1.7.4 in /usr/local/lib/python3.10/dist-packages (from spacy<3.3.0,>=3.2.4->uk-core-news-trf==any) (1.8.2)\n",
            "Requirement already satisfied: jinja2 in /usr/local/lib/python3.10/dist-packages (from spacy<3.3.0,>=3.2.4->uk-core-news-trf==any) (3.1.4)\n",
            "Requirement already satisfied: setuptools in /usr/local/lib/python3.10/dist-packages (from spacy<3.3.0,>=3.2.4->uk-core-news-trf==any) (67.7.2)\n",
            "Requirement already satisfied: packaging>=20.0 in /usr/local/lib/python3.10/dist-packages (from spacy<3.3.0,>=3.2.4->uk-core-news-trf==any) (24.0)\n",
            "Collecting typing-extensions<4.6.0,>=3.7.4.1 (from spacy<3.3.0,>=3.2.4->uk-core-news-trf==any)\n",
            "  Using cached typing_extensions-4.5.0-py3-none-any.whl (27 kB)\n",
            "Requirement already satisfied: langcodes<4.0.0,>=3.2.0 in /usr/local/lib/python3.10/dist-packages (from spacy<3.3.0,>=3.2.4->uk-core-news-trf==any) (3.4.0)\n",
            "Requirement already satisfied: transformers<4.21.0,>=3.4.0 in /usr/local/lib/python3.10/dist-packages (from spacy-transformers<1.2.0,>=1.1.5->uk-core-news-trf==any) (4.20.1)\n",
            "Requirement already satisfied: torch>=1.6.0 in /usr/local/lib/python3.10/dist-packages (from spacy-transformers<1.2.0,>=1.1.5->uk-core-news-trf==any) (2.1.2)\n",
            "Requirement already satisfied: spacy-alignments<1.0.0,>=0.7.2 in /usr/local/lib/python3.10/dist-packages (from spacy-transformers<1.2.0,>=1.1.5->uk-core-news-trf==any) (0.9.1)\n",
            "Requirement already satisfied: language-data>=1.2 in /usr/local/lib/python3.10/dist-packages (from langcodes<4.0.0,>=3.2.0->spacy<3.3.0,>=3.2.4->uk-core-news-trf==any) (1.2.0)\n",
            "Requirement already satisfied: pathlib-abc==0.1.1 in /usr/local/lib/python3.10/dist-packages (from pathy>=0.3.5->spacy<3.3.0,>=3.2.4->uk-core-news-trf==any) (0.1.1)\n",
            "Requirement already satisfied: charset-normalizer<4,>=2 in /usr/local/lib/python3.10/dist-packages (from requests<3.0.0,>=2.13.0->spacy<3.3.0,>=3.2.4->uk-core-news-trf==any) (3.3.2)\n",
            "Requirement already satisfied: idna<4,>=2.5 in /usr/local/lib/python3.10/dist-packages (from requests<3.0.0,>=2.13.0->spacy<3.3.0,>=3.2.4->uk-core-news-trf==any) (3.7)\n",
            "Requirement already satisfied: urllib3<3,>=1.21.1 in /usr/local/lib/python3.10/dist-packages (from requests<3.0.0,>=2.13.0->spacy<3.3.0,>=3.2.4->uk-core-news-trf==any) (2.0.7)\n",
            "Requirement already satisfied: certifi>=2017.4.17 in /usr/local/lib/python3.10/dist-packages (from requests<3.0.0,>=2.13.0->spacy<3.3.0,>=3.2.4->uk-core-news-trf==any) (2024.2.2)\n",
            "Requirement already satisfied: filelock in /usr/local/lib/python3.10/dist-packages (from torch>=1.6.0->spacy-transformers<1.2.0,>=1.1.5->uk-core-news-trf==any) (3.14.0)\n",
            "Requirement already satisfied: sympy in /usr/local/lib/python3.10/dist-packages (from torch>=1.6.0->spacy-transformers<1.2.0,>=1.1.5->uk-core-news-trf==any) (1.12)\n",
            "Requirement already satisfied: networkx in /usr/local/lib/python3.10/dist-packages (from torch>=1.6.0->spacy-transformers<1.2.0,>=1.1.5->uk-core-news-trf==any) (3.3)\n",
            "Requirement already satisfied: fsspec in /usr/local/lib/python3.10/dist-packages (from torch>=1.6.0->spacy-transformers<1.2.0,>=1.1.5->uk-core-news-trf==any) (2023.6.0)\n",
            "Requirement already satisfied: nvidia-cuda-nvrtc-cu12==12.1.105 in /usr/local/lib/python3.10/dist-packages (from torch>=1.6.0->spacy-transformers<1.2.0,>=1.1.5->uk-core-news-trf==any) (12.1.105)\n",
            "Requirement already satisfied: nvidia-cuda-runtime-cu12==12.1.105 in /usr/local/lib/python3.10/dist-packages (from torch>=1.6.0->spacy-transformers<1.2.0,>=1.1.5->uk-core-news-trf==any) (12.1.105)\n",
            "Requirement already satisfied: nvidia-cuda-cupti-cu12==12.1.105 in /usr/local/lib/python3.10/dist-packages (from torch>=1.6.0->spacy-transformers<1.2.0,>=1.1.5->uk-core-news-trf==any) (12.1.105)\n",
            "Requirement already satisfied: nvidia-cudnn-cu12==8.9.2.26 in /usr/local/lib/python3.10/dist-packages (from torch>=1.6.0->spacy-transformers<1.2.0,>=1.1.5->uk-core-news-trf==any) (8.9.2.26)\n",
            "Requirement already satisfied: nvidia-cublas-cu12==12.1.3.1 in /usr/local/lib/python3.10/dist-packages (from torch>=1.6.0->spacy-transformers<1.2.0,>=1.1.5->uk-core-news-trf==any) (12.1.3.1)\n",
            "Requirement already satisfied: nvidia-cufft-cu12==11.0.2.54 in /usr/local/lib/python3.10/dist-packages (from torch>=1.6.0->spacy-transformers<1.2.0,>=1.1.5->uk-core-news-trf==any) (11.0.2.54)\n",
            "Requirement already satisfied: nvidia-curand-cu12==10.3.2.106 in /usr/local/lib/python3.10/dist-packages (from torch>=1.6.0->spacy-transformers<1.2.0,>=1.1.5->uk-core-news-trf==any) (10.3.2.106)\n",
            "Requirement already satisfied: nvidia-cusolver-cu12==11.4.5.107 in /usr/local/lib/python3.10/dist-packages (from torch>=1.6.0->spacy-transformers<1.2.0,>=1.1.5->uk-core-news-trf==any) (11.4.5.107)\n",
            "Requirement already satisfied: nvidia-cusparse-cu12==12.1.0.106 in /usr/local/lib/python3.10/dist-packages (from torch>=1.6.0->spacy-transformers<1.2.0,>=1.1.5->uk-core-news-trf==any) (12.1.0.106)\n",
            "Requirement already satisfied: nvidia-nccl-cu12==2.18.1 in /usr/local/lib/python3.10/dist-packages (from torch>=1.6.0->spacy-transformers<1.2.0,>=1.1.5->uk-core-news-trf==any) (2.18.1)\n",
            "Requirement already satisfied: nvidia-nvtx-cu12==12.1.105 in /usr/local/lib/python3.10/dist-packages (from torch>=1.6.0->spacy-transformers<1.2.0,>=1.1.5->uk-core-news-trf==any) (12.1.105)\n",
            "Requirement already satisfied: triton==2.1.0 in /usr/local/lib/python3.10/dist-packages (from torch>=1.6.0->spacy-transformers<1.2.0,>=1.1.5->uk-core-news-trf==any) (2.1.0)\n",
            "Requirement already satisfied: nvidia-nvjitlink-cu12 in /usr/local/lib/python3.10/dist-packages (from nvidia-cusolver-cu12==11.4.5.107->torch>=1.6.0->spacy-transformers<1.2.0,>=1.1.5->uk-core-news-trf==any) (12.5.40)\n",
            "Requirement already satisfied: huggingface-hub<1.0,>=0.1.0 in /usr/local/lib/python3.10/dist-packages (from transformers<4.21.0,>=3.4.0->spacy-transformers<1.2.0,>=1.1.5->uk-core-news-trf==any) (0.23.1)\n",
            "Requirement already satisfied: pyyaml>=5.1 in /usr/local/lib/python3.10/dist-packages (from transformers<4.21.0,>=3.4.0->spacy-transformers<1.2.0,>=1.1.5->uk-core-news-trf==any) (6.0.1)\n",
            "Requirement already satisfied: regex!=2019.12.17 in /usr/local/lib/python3.10/dist-packages (from transformers<4.21.0,>=3.4.0->spacy-transformers<1.2.0,>=1.1.5->uk-core-news-trf==any) (2023.12.25)\n",
            "Requirement already satisfied: tokenizers!=0.11.3,<0.13,>=0.11.1 in /usr/local/lib/python3.10/dist-packages (from transformers<4.21.0,>=3.4.0->spacy-transformers<1.2.0,>=1.1.5->uk-core-news-trf==any) (0.12.1)\n",
            "Requirement already satisfied: click<9.0.0,>=7.1.1 in /usr/local/lib/python3.10/dist-packages (from typer<0.5.0,>=0.3.0->spacy<3.3.0,>=3.2.4->uk-core-news-trf==any) (8.1.7)\n",
            "Requirement already satisfied: MarkupSafe>=2.0 in /usr/local/lib/python3.10/dist-packages (from jinja2->spacy<3.3.0,>=3.2.4->uk-core-news-trf==any) (2.1.5)\n",
            "Requirement already satisfied: marisa-trie>=0.7.7 in /usr/local/lib/python3.10/dist-packages (from language-data>=1.2->langcodes<4.0.0,>=3.2.0->spacy<3.3.0,>=3.2.4->uk-core-news-trf==any) (1.1.1)\n",
            "Requirement already satisfied: mpmath>=0.19 in /usr/local/lib/python3.10/dist-packages (from sympy->torch>=1.6.0->spacy-transformers<1.2.0,>=1.1.5->uk-core-news-trf==any) (1.3.0)\n",
            "Installing collected packages: typing-extensions\n",
            "  Attempting uninstall: typing-extensions\n",
            "    Found existing installation: typing_extensions 4.12.0\n",
            "    Uninstalling typing_extensions-4.12.0:\n",
            "      Successfully uninstalled typing_extensions-4.12.0\n",
            "\u001b[31mERROR: pip's dependency resolver does not currently take into account all the packages that are installed. This behaviour is the source of the following dependency conflicts.\n",
            "sqlalchemy 2.0.30 requires typing-extensions>=4.6.0, but you have typing-extensions 4.5.0 which is incompatible.\n",
            "emoji 2.12.1 requires typing-extensions>=4.7.0, but you have typing-extensions 4.5.0 which is incompatible.\n",
            "inflect 7.0.0 requires pydantic>=1.9.1, but you have pydantic 1.8.2 which is incompatible.\n",
            "pydantic-core 2.18.2 requires typing-extensions!=4.7.0,>=4.6.0, but you have typing-extensions 4.5.0 which is incompatible.\n",
            "torchaudio 2.3.0+cu121 requires torch==2.3.0, but you have torch 2.1.2 which is incompatible.\n",
            "torchtext 0.18.0 requires torch>=2.3.0, but you have torch 2.1.2 which is incompatible.\n",
            "torchvision 0.18.0+cu121 requires torch==2.3.0, but you have torch 2.1.2 which is incompatible.\u001b[0m\u001b[31m\n",
            "\u001b[0mSuccessfully installed typing-extensions-4.5.0\n"
          ]
        }
      ],
      "source": [
        "!pip install https://huggingface.co/ukr-models/uk_core_news_trf/resolve/main/uk_core_news_trf-any-py3-none-any.whl"
      ]
    },
    {
      "cell_type": "code",
      "execution_count": 63,
      "id": "VMhpMXAipdOJ",
      "metadata": {
        "colab": {
          "base_uri": "https://localhost:8080/"
        },
        "id": "VMhpMXAipdOJ",
        "outputId": "2b4f295a-4c23-47bf-db2b-3cb9a4032a64"
      },
      "outputs": [
        {
          "output_type": "stream",
          "name": "stdout",
          "text": [
            "Requirement already satisfied: spacy-transformers in /usr/local/lib/python3.10/dist-packages (1.1.7)\n",
            "Requirement already satisfied: spacy<4.0.0,>=3.1.3 in /usr/local/lib/python3.10/dist-packages (from spacy-transformers) (3.2.6)\n",
            "Requirement already satisfied: transformers<4.21.0,>=3.4.0 in /usr/local/lib/python3.10/dist-packages (from spacy-transformers) (4.20.1)\n",
            "Requirement already satisfied: torch>=1.6.0 in /usr/local/lib/python3.10/dist-packages (from spacy-transformers) (2.1.2)\n",
            "Requirement already satisfied: srsly<3.0.0,>=2.4.0 in /usr/local/lib/python3.10/dist-packages (from spacy-transformers) (2.4.8)\n",
            "Requirement already satisfied: spacy-alignments<1.0.0,>=0.7.2 in /usr/local/lib/python3.10/dist-packages (from spacy-transformers) (0.9.1)\n",
            "Requirement already satisfied: spacy-legacy<3.1.0,>=3.0.8 in /usr/local/lib/python3.10/dist-packages (from spacy<4.0.0,>=3.1.3->spacy-transformers) (3.0.12)\n",
            "Requirement already satisfied: spacy-loggers<2.0.0,>=1.0.0 in /usr/local/lib/python3.10/dist-packages (from spacy<4.0.0,>=3.1.3->spacy-transformers) (1.0.5)\n",
            "Requirement already satisfied: murmurhash<1.1.0,>=0.28.0 in /usr/local/lib/python3.10/dist-packages (from spacy<4.0.0,>=3.1.3->spacy-transformers) (1.0.10)\n",
            "Requirement already satisfied: cymem<2.1.0,>=2.0.2 in /usr/local/lib/python3.10/dist-packages (from spacy<4.0.0,>=3.1.3->spacy-transformers) (2.0.8)\n",
            "Requirement already satisfied: preshed<3.1.0,>=3.0.2 in /usr/local/lib/python3.10/dist-packages (from spacy<4.0.0,>=3.1.3->spacy-transformers) (3.0.9)\n",
            "Requirement already satisfied: thinc<8.1.0,>=8.0.12 in /usr/local/lib/python3.10/dist-packages (from spacy<4.0.0,>=3.1.3->spacy-transformers) (8.0.17)\n",
            "Requirement already satisfied: blis<0.8.0,>=0.4.0 in /usr/local/lib/python3.10/dist-packages (from spacy<4.0.0,>=3.1.3->spacy-transformers) (0.7.11)\n",
            "Requirement already satisfied: wasabi<1.1.0,>=0.8.1 in /usr/local/lib/python3.10/dist-packages (from spacy<4.0.0,>=3.1.3->spacy-transformers) (0.10.1)\n",
            "Requirement already satisfied: catalogue<2.1.0,>=2.0.6 in /usr/local/lib/python3.10/dist-packages (from spacy<4.0.0,>=3.1.3->spacy-transformers) (2.0.10)\n",
            "Requirement already satisfied: typer<0.5.0,>=0.3.0 in /usr/local/lib/python3.10/dist-packages (from spacy<4.0.0,>=3.1.3->spacy-transformers) (0.4.2)\n",
            "Requirement already satisfied: pathy>=0.3.5 in /usr/local/lib/python3.10/dist-packages (from spacy<4.0.0,>=3.1.3->spacy-transformers) (0.11.0)\n",
            "Requirement already satisfied: smart-open<7.0.0,>=5.2.1 in /usr/local/lib/python3.10/dist-packages (from spacy<4.0.0,>=3.1.3->spacy-transformers) (6.4.0)\n",
            "Requirement already satisfied: tqdm<5.0.0,>=4.38.0 in /usr/local/lib/python3.10/dist-packages (from spacy<4.0.0,>=3.1.3->spacy-transformers) (4.66.4)\n",
            "Requirement already satisfied: numpy>=1.15.0 in /usr/local/lib/python3.10/dist-packages (from spacy<4.0.0,>=3.1.3->spacy-transformers) (1.25.2)\n",
            "Requirement already satisfied: requests<3.0.0,>=2.13.0 in /usr/local/lib/python3.10/dist-packages (from spacy<4.0.0,>=3.1.3->spacy-transformers) (2.31.0)\n",
            "Requirement already satisfied: pydantic!=1.8,!=1.8.1,<1.9.0,>=1.7.4 in /usr/local/lib/python3.10/dist-packages (from spacy<4.0.0,>=3.1.3->spacy-transformers) (1.8.2)\n",
            "Requirement already satisfied: jinja2 in /usr/local/lib/python3.10/dist-packages (from spacy<4.0.0,>=3.1.3->spacy-transformers) (3.1.4)\n",
            "Requirement already satisfied: setuptools in /usr/local/lib/python3.10/dist-packages (from spacy<4.0.0,>=3.1.3->spacy-transformers) (67.7.2)\n",
            "Requirement already satisfied: packaging>=20.0 in /usr/local/lib/python3.10/dist-packages (from spacy<4.0.0,>=3.1.3->spacy-transformers) (24.0)\n",
            "Requirement already satisfied: typing-extensions<4.6.0,>=3.7.4.1 in /usr/local/lib/python3.10/dist-packages (from spacy<4.0.0,>=3.1.3->spacy-transformers) (4.5.0)\n",
            "Requirement already satisfied: langcodes<4.0.0,>=3.2.0 in /usr/local/lib/python3.10/dist-packages (from spacy<4.0.0,>=3.1.3->spacy-transformers) (3.4.0)\n",
            "Requirement already satisfied: filelock in /usr/local/lib/python3.10/dist-packages (from torch>=1.6.0->spacy-transformers) (3.14.0)\n",
            "Requirement already satisfied: sympy in /usr/local/lib/python3.10/dist-packages (from torch>=1.6.0->spacy-transformers) (1.12)\n",
            "Requirement already satisfied: networkx in /usr/local/lib/python3.10/dist-packages (from torch>=1.6.0->spacy-transformers) (3.3)\n",
            "Requirement already satisfied: fsspec in /usr/local/lib/python3.10/dist-packages (from torch>=1.6.0->spacy-transformers) (2023.6.0)\n",
            "Requirement already satisfied: nvidia-cuda-nvrtc-cu12==12.1.105 in /usr/local/lib/python3.10/dist-packages (from torch>=1.6.0->spacy-transformers) (12.1.105)\n",
            "Requirement already satisfied: nvidia-cuda-runtime-cu12==12.1.105 in /usr/local/lib/python3.10/dist-packages (from torch>=1.6.0->spacy-transformers) (12.1.105)\n",
            "Requirement already satisfied: nvidia-cuda-cupti-cu12==12.1.105 in /usr/local/lib/python3.10/dist-packages (from torch>=1.6.0->spacy-transformers) (12.1.105)\n",
            "Requirement already satisfied: nvidia-cudnn-cu12==8.9.2.26 in /usr/local/lib/python3.10/dist-packages (from torch>=1.6.0->spacy-transformers) (8.9.2.26)\n",
            "Requirement already satisfied: nvidia-cublas-cu12==12.1.3.1 in /usr/local/lib/python3.10/dist-packages (from torch>=1.6.0->spacy-transformers) (12.1.3.1)\n",
            "Requirement already satisfied: nvidia-cufft-cu12==11.0.2.54 in /usr/local/lib/python3.10/dist-packages (from torch>=1.6.0->spacy-transformers) (11.0.2.54)\n",
            "Requirement already satisfied: nvidia-curand-cu12==10.3.2.106 in /usr/local/lib/python3.10/dist-packages (from torch>=1.6.0->spacy-transformers) (10.3.2.106)\n",
            "Requirement already satisfied: nvidia-cusolver-cu12==11.4.5.107 in /usr/local/lib/python3.10/dist-packages (from torch>=1.6.0->spacy-transformers) (11.4.5.107)\n",
            "Requirement already satisfied: nvidia-cusparse-cu12==12.1.0.106 in /usr/local/lib/python3.10/dist-packages (from torch>=1.6.0->spacy-transformers) (12.1.0.106)\n",
            "Requirement already satisfied: nvidia-nccl-cu12==2.18.1 in /usr/local/lib/python3.10/dist-packages (from torch>=1.6.0->spacy-transformers) (2.18.1)\n",
            "Requirement already satisfied: nvidia-nvtx-cu12==12.1.105 in /usr/local/lib/python3.10/dist-packages (from torch>=1.6.0->spacy-transformers) (12.1.105)\n",
            "Requirement already satisfied: triton==2.1.0 in /usr/local/lib/python3.10/dist-packages (from torch>=1.6.0->spacy-transformers) (2.1.0)\n",
            "Requirement already satisfied: nvidia-nvjitlink-cu12 in /usr/local/lib/python3.10/dist-packages (from nvidia-cusolver-cu12==11.4.5.107->torch>=1.6.0->spacy-transformers) (12.5.40)\n",
            "Requirement already satisfied: huggingface-hub<1.0,>=0.1.0 in /usr/local/lib/python3.10/dist-packages (from transformers<4.21.0,>=3.4.0->spacy-transformers) (0.23.1)\n",
            "Requirement already satisfied: pyyaml>=5.1 in /usr/local/lib/python3.10/dist-packages (from transformers<4.21.0,>=3.4.0->spacy-transformers) (6.0.1)\n",
            "Requirement already satisfied: regex!=2019.12.17 in /usr/local/lib/python3.10/dist-packages (from transformers<4.21.0,>=3.4.0->spacy-transformers) (2023.12.25)\n",
            "Requirement already satisfied: tokenizers!=0.11.3,<0.13,>=0.11.1 in /usr/local/lib/python3.10/dist-packages (from transformers<4.21.0,>=3.4.0->spacy-transformers) (0.12.1)\n",
            "Requirement already satisfied: language-data>=1.2 in /usr/local/lib/python3.10/dist-packages (from langcodes<4.0.0,>=3.2.0->spacy<4.0.0,>=3.1.3->spacy-transformers) (1.2.0)\n",
            "Requirement already satisfied: pathlib-abc==0.1.1 in /usr/local/lib/python3.10/dist-packages (from pathy>=0.3.5->spacy<4.0.0,>=3.1.3->spacy-transformers) (0.1.1)\n",
            "Requirement already satisfied: charset-normalizer<4,>=2 in /usr/local/lib/python3.10/dist-packages (from requests<3.0.0,>=2.13.0->spacy<4.0.0,>=3.1.3->spacy-transformers) (3.3.2)\n",
            "Requirement already satisfied: idna<4,>=2.5 in /usr/local/lib/python3.10/dist-packages (from requests<3.0.0,>=2.13.0->spacy<4.0.0,>=3.1.3->spacy-transformers) (3.7)\n",
            "Requirement already satisfied: urllib3<3,>=1.21.1 in /usr/local/lib/python3.10/dist-packages (from requests<3.0.0,>=2.13.0->spacy<4.0.0,>=3.1.3->spacy-transformers) (2.0.7)\n",
            "Requirement already satisfied: certifi>=2017.4.17 in /usr/local/lib/python3.10/dist-packages (from requests<3.0.0,>=2.13.0->spacy<4.0.0,>=3.1.3->spacy-transformers) (2024.2.2)\n",
            "Requirement already satisfied: click<9.0.0,>=7.1.1 in /usr/local/lib/python3.10/dist-packages (from typer<0.5.0,>=0.3.0->spacy<4.0.0,>=3.1.3->spacy-transformers) (8.1.7)\n",
            "Requirement already satisfied: MarkupSafe>=2.0 in /usr/local/lib/python3.10/dist-packages (from jinja2->spacy<4.0.0,>=3.1.3->spacy-transformers) (2.1.5)\n",
            "Requirement already satisfied: mpmath>=0.19 in /usr/local/lib/python3.10/dist-packages (from sympy->torch>=1.6.0->spacy-transformers) (1.3.0)\n",
            "Requirement already satisfied: marisa-trie>=0.7.7 in /usr/local/lib/python3.10/dist-packages (from language-data>=1.2->langcodes<4.0.0,>=3.2.0->spacy<4.0.0,>=3.1.3->spacy-transformers) (1.1.1)\n"
          ]
        }
      ],
      "source": [
        "!pip install spacy-transformers\n",
        "import spacy_transformers\n"
      ]
    },
    {
      "cell_type": "code",
      "execution_count": 64,
      "id": "NXMuzT01WOFu",
      "metadata": {
        "colab": {
          "base_uri": "https://localhost:8080/"
        },
        "id": "NXMuzT01WOFu",
        "outputId": "1738e8a5-765b-451f-fbe9-6afd78bc70cf"
      },
      "outputs": [
        {
          "output_type": "stream",
          "name": "stdout",
          "text": [
            "  ROOT   співати\n",
            "не advmod дуже\n",
            "дуже advmod добре не\n",
            "добре advmod співати дуже\n",
            "співати xcomp   добре\n"
          ]
        }
      ],
      "source": [
        "import spacy\n",
        "nlp = spacy.load('uk_core_news_trf')\n",
        "\n",
        "text = \" не дуже добре співати\"\n",
        "doc = nlp(text)\n",
        "\n",
        "### SYNTAX ###\n",
        "\n",
        "for token in doc:\n",
        "  print(token.text, token.dep_, token.head.text, *[i for i in token.children])\n"
      ]
    },
    {
      "cell_type": "code",
      "execution_count": 65,
      "id": "l-h96DSLcdu8",
      "metadata": {
        "colab": {
          "base_uri": "https://localhost:8080/"
        },
        "id": "l-h96DSLcdu8",
        "outputId": "3c6916db-0587-48e4-ffa8-a3083d6f6695"
      },
      "outputs": [
        {
          "output_type": "stream",
          "name": "stdout",
          "text": [
            "ROOT  --  None\n",
            "acl  --  clausal modifier of noun (adjectival clause)\n",
            "acl:relcl  --  None\n",
            "advcl  --  adverbial clause modifier\n",
            "advcl:sp  --  None\n",
            "advcl:svc  --  None\n",
            "advmod  --  adverbial modifier\n",
            "advmod:det  --  None\n",
            "amod  --  adjectival modifier\n",
            "appos  --  appositional modifier\n",
            "aux  --  auxiliary\n",
            "case  --  case marking\n",
            "cc  --  coordinating conjunction\n",
            "ccomp  --  clausal complement\n",
            "compound  --  compound\n",
            "conj  --  conjunct\n",
            "cop  --  copula\n",
            "csubj  --  clausal subject\n",
            "dep  --  unclassified dependent\n",
            "det  --  determiner\n",
            "det:numgov  --  None\n",
            "discourse  --  discourse element\n",
            "expl  --  expletive\n",
            "fixed  --  fixed multiword expression\n",
            "flat:abs  --  None\n",
            "flat:foreign  --  None\n",
            "flat:name  --  None\n",
            "flat:range  --  None\n",
            "flat:repeat  --  None\n",
            "flat:sibl  --  None\n",
            "flat:title  --  None\n",
            "iobj  --  indirect object\n",
            "mark  --  marker\n",
            "nmod  --  modifier of nominal\n",
            "nsubj  --  nominal subject\n",
            "nummod  --  numeric modifier\n",
            "nummod:gov  --  None\n",
            "obj  --  object\n",
            "obl  --  oblique nominal\n",
            "orphan  --  orphan\n",
            "parataxis  --  parataxis\n",
            "parataxis:discourse  --  None\n",
            "punct  --  punctuation\n",
            "vocative  --  vocative\n",
            "xcomp  --  open clausal complement\n",
            "xcomp:sp  --  None\n"
          ]
        }
      ],
      "source": [
        "for label in nlp.get_pipe(\"parser\").labels:\n",
        "    print(label, \" -- \", spacy.explain(label))"
      ]
    },
    {
      "cell_type": "code",
      "execution_count": 66,
      "id": "oSTmvJnzFuI0",
      "metadata": {
        "colab": {
          "base_uri": "https://localhost:8080/"
        },
        "id": "oSTmvJnzFuI0",
        "outputId": "656ecff2-1b5d-4613-c677-6bad857561b6"
      },
      "outputs": [
        {
          "output_type": "stream",
          "name": "stdout",
          "text": [
            "{'😃': 'grinning face with big eyes', '🐾': 'paw prints', '🚛': 'articulated lorry', '❗': 'red exclamation mark', '😿': 'crying cat', '💧': 'droplet', '🧹': 'broom', '⏺': 'record button', '⚕': 'medical symbol', '🚨': 'police car light', '🥇': '1st place medal', '✈': 'airplane', '🧑': 'person', '🍅': 'tomato', '🪝': 'hook', '🛳': 'passenger ship', '🛰': 'satellite', '🔵': 'blue circle', '💤': 'zzz', '🗺': 'world map', '✖': 'multiply', '📚': 'books', '👀': 'eyes', '🏠': 'house', '🖍': 'crayon', '🔮': 'crystal ball', '🌨': 'cloud with snow', '🌌': 'milky way', '👁': 'eye', '🥛': 'glass of milk', '⤴': 'right arrow curving up', '🏽': 'medium skin tone', '🤷': 'person shrugging', '⛷': 'skier', '🚁': 'helicopter', '🎬': 'clapper board', '☝': 'index pointing up', '🌲': 'evergreen tree', '💦': 'sweat droplets', '📰': 'newspaper', '💬': 'speech balloon', '🎾': 'tennis', '🥂': 'clinking glasses', '🌈': 'rainbow', '👩': 'woman', '🎼': 'musical score', '🚊': 'tram', '⛄': 'snowman without snow', '🚶': 'person walking', '🐻': 'bear', '🔨': 'hammer', '😡': 'pouting face', '🚏': 'bus stop', '😍': 'smiling face with heart-eyes', '🐦': 'bird', '🐅': 'tiger', '👎': 'thumbs down', '✅': 'check mark button', '👰': 'person with veil', '😥': 'sad but relieved face', '📨': 'incoming envelope', '🥖': 'baguette bread', '🔰': 'Japanese symbol for beginner', '📝': 'memo', '🚋': 'tram car', '🎄': 'Christmas tree', '👥': 'busts in silhouette', '🌫': 'fog', '🤪': 'zany face', '✍': 'writing hand', '🛍': 'shopping bags', '🤩': 'star-struck', '🎵': 'musical note', '🌤': 'sun behind small cloud', '💡': 'light bulb', '🏚': 'derelict house', '♦': 'diamond suit', '🤳': 'selfie', '📊': 'bar chart', '🌳': 'deciduous tree', '⏩': 'fast-forward button', '📸': 'camera with flash', '🐨': 'koala', '🙏': 'folded hands', '😬': 'grimacing face', '🐢': 'turtle', '🍷': 'wine glass', '🔷': 'large blue diamond', '🤖': 'robot', '©': 'copyright', '🏔': 'snow-capped mountain', '🎙': 'studio microphone', '🚂': 'locomotive', '⛔': 'no entry', '🦊': 'fox', '🦘': 'kangaroo', '☄': 'comet', '🌋': 'volcano', '🦜': 'parrot', '👇': 'backhand index pointing down', '🕚': 'eleven o’clock', '🚢': 'ship', '🎶': 'musical notes', '⚛': 'atom symbol', '🥱': 'yawning face', '⚓': 'anchor', 'ℹ': 'information', '🦫': 'beaver', '🙃': 'upside-down face', '🏟': 'stadium', '💭': 'thought balloon', '💣': 'bomb', '🤱': 'breast-feeding', '🎸': 'guitar', '📦': 'package', '📌': 'pushpin', '🌐': 'globe with meridians', '👌': 'OK hand', '🍁': 'maple leaf', '🐈': 'cat', '🐒': 'monkey', '🌧': 'cloud with rain', '⚔': 'crossed swords', '🔎': 'magnifying glass tilted right', '▶': 'play button', '🌬': 'wind face', '⛴': 'ferry', '😂': 'face with tears of joy', '🌊': 'water wave', '🦾': 'mechanical arm', '🚌': 'bus', '👨': 'man', '🤔': 'thinking face', '💘': 'heart with arrow', '❄': 'snowflake', '😅': 'grinning face with sweat', '⚽': 'soccer ball', '😇': 'smiling face with halo', '💳': 'credit card', '🍭': 'lollipop', '🥉': '3rd place medal', '💫': 'dizzy', '🌜': 'last quarter moon face', '🗻': 'mount fuji', '🤍': 'white heart', '🧪': 'test tube', '🏼': 'medium-light skin tone', '🏥': 'hospital', '🔞': 'no one under eighteen', '☃': 'snowman', '🚜': 'tractor', '📹': 'video camera', '💥': 'collision', '💚': 'green heart', '👑': 'crown', '🥵': 'hot face', '🌀': 'cyclone', '😱': 'face screaming in fear', '🎤': 'microphone', '🎃': 'jack-o-lantern', '🏍': 'motorcycle', '💊': 'pill', '⛲': 'fountain', '➡': 'right arrow', '🚘': 'oncoming automobile', '🆗': 'OK button', '🏰': 'castle', '❓': 'red question mark', '🥸': 'disguised face', '👋': 'waving hand', '▪': 'black small square', '☢': 'radioactive', '📲': 'mobile phone with arrow', '🚑': 'ambulance', '✨': 'sparkles', '🚀': 'rocket', '💙': 'blue heart', '⚙': 'gear', '☑': 'check box with check', '🪐': 'ringed planet', '🍟': 'french fries', '🥘': 'shallow pan of food', '🏘': 'houses', '🦸': 'superhero', '💪': 'flexed biceps', '🖋': 'fountain pen', '🔶': 'large orange diamond', '🎁': 'wrapped gift', '🦠': 'microbe', '🎆': 'fireworks', '😉': 'winking face', '🧱': 'brick', '🤸': 'person cartwheeling', '🔬': 'microscope', '🏅': 'sports medal', '💛': 'yellow heart', '🛩': 'small airplane', '🫀': 'anatomical heart', '🌽': 'ear of corn', '😭': 'loudly crying face', '🚮': 'litter in bin sign', '✔': 'check mark', '🆒': 'COOL button', '🦎': 'lizard', '📬': 'open mailbox with raised flag', '🐼': 'panda', '🔈': 'speaker low volume', '🥓': 'bacon', '🖌': 'paintbrush', '🚇': 'metro', '🔥': 'fire', '🤝': 'handshake', '😏': 'smirking face', '🤯': 'exploding head', '👏': 'clapping hands', '⛽': 'fuel pump', '🔘': 'radio button', '👍': 'thumbs up', '🌡': 'thermometer', '🤢': 'nauseated face', '◽': 'white medium-small square', '🐊': 'crocodile', '📛': 'name badge', '♂': 'male sign', '🪕': 'banjo', '📍': 'round pushpin', '🎈': 'balloon', '🦭': 'seal', '🎻': 'violin', '📱': 'mobile phone', '🐶': 'dog face', '👧': 'girl', '🪦': 'headstone', '💵': 'dollar banknote', '📙': 'orange book', '🥤': 'cup with straw', '☎': 'telephone', '😎': 'smiling face with sunglasses', '🛢': 'oil drum', '😴': 'sleeping face', '🩹': 'adhesive bandage', '🪒': 'razor', '🎊': 'confetti ball', '🔴': 'red circle', '🕯': 'candle', '♥': 'heart suit', '🦖': 'T-Rex', '🎮': 'video game', '💻': 'laptop', '🚗': 'automobile', '📞': 'telephone receiver', '🎿': 'skis', '🤭': 'face with hand over mouth', '🛡': 'shield', '🤡': 'clown face', '◾': 'black medium-small square', '⁉': 'exclamation question mark', '⛸': 'ice skate', '🚤': 'speedboat', '♀': 'female sign', '🤙': 'call me hand', '🦀': 'crab', '💨': 'dashing away', '🎨': 'artist palette', '🐘': 'elephant', '🔹': 'small blue diamond', '🎅': 'Santa Claus', '💕': 'two hearts', '🩺': 'stethoscope', '🔻': 'red triangle pointed down', '🎥': 'movie camera', '💰': 'money bag', '🙅': 'person gesturing NO', '😷': 'face with medical mask', '🥃': 'tumbler glass', '🍫': 'chocolate bar', '👮': 'police officer', '🥈': '2nd place medal', '♻': 'recycling symbol', '⚡': 'high voltage', '💲': 'heavy dollar sign', '🥔': 'potato', '🤛': 'left-facing fist', '🟡': 'yellow circle', '⭕': 'hollow red circle', '📪': 'closed mailbox with lowered flag', '🟢': 'green circle', '🏳': 'white flag', '🚽': 'toilet', '🍇': 'grapes', '🎉': 'party popper', '🟠': 'orange circle', '💁': 'person tipping hand', '🚆': 'train', '🕊': 'dove', '👊': 'oncoming fist', '📆': 'tear-off calendar', '📉': 'chart decreasing', '🐱': 'cat face', '✌': 'victory hand', '🪓': 'axe', '🌎': 'globe showing Americas', '🟪': 'purple square', '🛑': 'stop sign', '🚎': 'trolleybus', '📡': 'satellite antenna', '🦺': 'safety vest', '⬅': 'left arrow', '🍲': 'pot of food', '🤦': 'person facepalming', '🌶': 'hot pepper', '❤': 'red heart', '🥶': 'cold face', '🎹': 'musical keyboard', '🍞': 'bread', '⚠': 'warning', '🌄': 'sunrise over mountains', '❕': 'white exclamation mark', '⏰': 'alarm clock', '🛥': 'motor boat', '🙂': 'slightly smiling face', '🥊': 'boxing glove', '🔺': 'red triangle pointed up', '🐎': 'horse', '🐧': 'penguin', '☀': 'sun', '🧒': 'child', '🔸': 'small orange diamond', '🖤': 'black heart', '🦔': 'hedgehog', '🦝': 'raccoon', '🚫': 'prohibited', '⤵': 'right arrow curving down', '👶': 'baby', '‼': 'double exclamation mark', '🦉': 'owl', '🚕': 'taxi', '📎': 'paperclip', '♨': 'hot springs', '🐕': 'dog', '🔱': 'trident emblem', '📷': 'camera', '🏻': 'light skin tone', '🌅': 'sunrise', '🌠': 'shooting star', '🤵': 'person in tuxedo', '🔜': 'SOON arrow', '🪆': 'nesting dolls', '🌍': 'globe showing Europe-Africa', '😄': 'grinning face with smiling eyes', '🧸': 'teddy bear', '💉': 'syringe', '🌞': 'sun with face', '🚅': 'bullet train', '👷': 'construction worker', '❌': 'cross mark', '🦩': 'flamingo', '🎭': 'performing arts', '🖥': 'desktop computer', '🍹': 'tropical drink', '🙌': 'raising hands', '🤜': 'right-facing fist', '🚉': 'station', '🐝': 'honeybee', '🌯': 'burrito', '↪': 'left arrow curving right', '⚖': 'balance scale', '🖼': 'framed picture', '😆': 'grinning squinting face', '🏀': 'basketball', '👆': 'backhand index pointing up', '🎧': 'headphone', '🤬': 'face with symbols on mouth', '🚙': 'sport utility vehicle', '▫': 'white small square', '🌟': 'glowing star', '🧀': 'cheese wedge', '🐯': 'tiger face', '👉': 'backhand index pointing right', '💔': 'broken heart', '🍬': 'candy', '🍗': 'poultry leg', '🏝': 'desert island', '🪖': 'military helmet', '📖': 'open book', '🍸': 'cocktail glass', '🩳': 'shorts', '💍': 'ring', '😸': 'grinning cat with smiling eyes', '🎞': 'film frames', '🦧': 'orangutan', '💃': 'woman dancing', '🥰': 'smiling face with hearts', '✉': 'envelope', '🛖': 'hut', '🚖': 'oncoming taxi', '🏆': 'trophy', '🍕': 'pizza'}\n",
            "                                                   Text\n",
            "0     🔴 Оперативне зведення Генштабу станом на 00:00...\n",
            "1     💪 🏻 Збройні Сили України впродовж минулої доби...\n",
            "2     Нацгвардійці захопили техніку загарбників на Л...\n",
            "3     😄 Вірменія , Казахстан та Киргизстан вимагають...\n",
            "4     Міністри культури ЄСпросять ЮНЕСКО перенести 4...\n",
            "...                                                 ...\n",
            "5467  Постачальники овочів та фруктів заявляють , що...\n",
            "5468  Знайомтеся з Ремом , цього цуцика врятував у Б...\n",
            "5469  ⚡ Українські захисники відбили атаки противник...\n",
            "5470  Участь у саміті G20 , який восени відбудеться ...\n",
            "5471                                                   \n",
            "\n",
            "[5472 rows x 1 columns]\n"
          ]
        }
      ],
      "source": [
        "\n",
        "import pandas as pd\n",
        "def read_texts_from_file(file_path):\n",
        "    with open(file_path, 'r') as file:\n",
        "      content = file.read()\n",
        "\n",
        "    emoj_dict = demoji.findall(content)\n",
        "    print(emoj_dict)\n",
        "\n",
        "\n",
        "    texts = content.split('\\n \\n')\n",
        "    for i in texts:\n",
        "     i.strip('\\n')\n",
        "    return texts\n",
        "\n",
        "def write_texts_to_dataframe(texts):\n",
        "    df = pd.DataFrame(texts, columns=['Text'])\n",
        "    return df\n",
        "\n",
        "if __name__ == \"__main__\":\n",
        "    file_path = 'shortvers.txt'\n",
        "    texts = read_texts_from_file(file_path)\n",
        "    df_texts = write_texts_to_dataframe(texts)\n",
        "    print(df_texts)"
      ]
    },
    {
      "cell_type": "code",
      "execution_count": 67,
      "id": "b7ba1442",
      "metadata": {
        "colab": {
          "base_uri": "https://localhost:8080/"
        },
        "id": "b7ba1442",
        "outputId": "38c32936-d97d-482d-b4e1-d46fef648668"
      },
      "outputs": [
        {
          "output_type": "stream",
          "name": "stderr",
          "text": [
            "[nltk_data] Downloading package punkt to /root/nltk_data...\n",
            "[nltk_data]   Package punkt is already up-to-date!\n"
          ]
        }
      ],
      "source": [
        "import nltk\n",
        "nltk.download('punkt')\n",
        "\n",
        "relevant_emoj_positive = ['😀', '😁', '😂', '😃', '😄', '😅', '😆',\n",
        "                              '😉', '😊', '😋', '😎', '😍', '🥰', '😘',\n",
        "                              '😗', '😙', '😚', '☺️', '🙂', '🤗', '🤩',\n",
        "                              '🥳', '😇', '💋', '💌', '💘', '💝', '💖',\n",
        "                              '💗', '💓', '💞', '💕', '💟', '❣️', '❤️',\n",
        "                              '🧡', '💛', '💚', '💙', '💜', '🤎', '🖤',\n",
        "                              '🤍', '😈']\n",
        "\n",
        "relevant_emoj_negative = ['😒', '😞', '😔', '😟', '😕', '🙁', '☹️',\n",
        "                              '😨', '😩', '😬', '😰', '😱', '🥵', '🥶',\n",
        "                              '🥴', '😵', '😡', '😠', '🤬', '😷', '🤒',\n",
        "                              '🤕', '🤢', '🤮', '🤧', '🥳', '🥸', '👿', '🤡']\n",
        "\n",
        "intensifiers = ['дуже', 'надто', 'надзвичайно', 'неймовірно', 'занадто', 'зовсім', 'вельми', 'украй', 'вкрай', 'сильно']\n",
        "\n",
        "negations = ['ні', 'не']\n",
        "\n",
        "with open('stopwords_ua.txt') as f:\n",
        "    stopwords = f.read().splitlines()\n",
        "\n",
        "def tokenize_lemma_stopwords(text):\n",
        "    text = text.replace(\"\\n\", \" \")\n",
        "    # split string into words (tokens)\n",
        "    tokens = nltk.tokenize.word_tokenize(text.lower())\n",
        "    for t in range(len(tokens)):\n",
        "      if tokens[t] in relevant_emoj_positive:\n",
        "        tokens[t] = 'радість'\n",
        "      elif tokens[t] in relevant_emoj_negative:\n",
        "        tokens[t] = 'погано'\n",
        "    # keep strings with only alphabets\n",
        "    tokens = [t for t in tokens if t.isalpha()]\n",
        "    # put words into base form\n",
        "    tokens = [morph.parse(t)[0].normal_form for t in tokens]\n",
        "    tokens = [t for t in tokens if t not in stopwords] # remove stopwords\n",
        "    cleanedText = \" \".join(tokens)\n",
        "    return cleanedText\n",
        "\n",
        "def dataCleaning(df):\n",
        "    data = df.copy()\n",
        "    data[\"Clean_text\"] = data[\"Text\"].apply(tokenize_lemma_stopwords)\n",
        "    return data\n",
        "cleanedData = dataCleaning(df_texts)"
      ]
    },
    {
      "cell_type": "code",
      "execution_count": 68,
      "id": "nVuglBVdls2K",
      "metadata": {
        "colab": {
          "base_uri": "https://localhost:8080/"
        },
        "id": "nVuglBVdls2K",
        "outputId": "bce7d580-9e27-456f-a1d7-4502aef8f15f"
      },
      "outputs": [
        {
          "output_type": "stream",
          "name": "stdout",
          "text": [
            "                                                   Text  \\\n",
            "0     🔴 Оперативне зведення Генштабу станом на 00:00...   \n",
            "1     💪 🏻 Збройні Сили України впродовж минулої доби...   \n",
            "2     Нацгвардійці захопили техніку загарбників на Л...   \n",
            "3     😄 Вірменія , Казахстан та Киргизстан вимагають...   \n",
            "4     Міністри культури ЄСпросять ЮНЕСКО перенести 4...   \n",
            "...                                                 ...   \n",
            "5467  Постачальники овочів та фруктів заявляють , що...   \n",
            "5468  Знайомтеся з Ремом , цього цуцика врятував у Б...   \n",
            "5469  ⚡ Українські захисники відбили атаки противник...   \n",
            "5470  Участь у саміті G20 , який восени відбудеться ...   \n",
            "5471                                                      \n",
            "\n",
            "                                             Clean_text  \n",
            "0     оперативний зведення генштаб стан березень гол...  \n",
            "1     збройний сила україна минулий доба березень зн...  \n",
            "2     нацгвардієць захопити технік загарбник луганщи...  \n",
            "3     радість вірменія казахстан киргизстан вимагати...  \n",
            "4     міністр культура єспросити юнеско перенести се...  \n",
            "...                                                 ...  \n",
            "5467  постачальник овоч фрукт заявляти восени можлив...  \n",
            "5468  знайомитися рем цуцик врятувати бахмут обстріл...  \n",
            "5469  український захисник відбити атака противник б...  \n",
            "5470  участь саміт восени відбутися індонезія залежа...  \n",
            "5471                                                     \n",
            "\n",
            "[5472 rows x 2 columns]\n"
          ]
        }
      ],
      "source": [
        "print(cleanedData)"
      ]
    },
    {
      "cell_type": "code",
      "execution_count": 69,
      "id": "b2203993",
      "metadata": {
        "colab": {
          "base_uri": "https://localhost:8080/"
        },
        "id": "b2203993",
        "outputId": "592aa929-7202-4b32-ad85-10d060e38106",
        "scrolled": true
      },
      "outputs": [
        {
          "output_type": "stream",
          "name": "stdout",
          "text": [
            "  Слово//словосполучення  Оцінки тональності  Unnamed: 2  Unnamed: 3  \\\n",
            "0                    NaN                 NaN         NaN         NaN   \n",
            "1                   абат                 1.0         1.0         1.0   \n",
            "2               абатство                 1.0         1.0         1.0   \n",
            "3                 абетка                 0.0         1.0         1.0   \n",
            "4                  абзац                 0.0         1.0         0.0   \n",
            "5             абітурієнт                 2.0         2.0         0.0   \n",
            "6             абонемент                  2.0         1.0         1.0   \n",
            "7               абонент                  1.0         1.0         1.0   \n",
            "8              абориген                  0.0         0.0         0.0   \n",
            "9                  аборт                -2.0        -2.0        -2.0   \n",
            "\n",
            "   Unnamed: 4  Unnamed: 5  Unnamed: 6  Unnamed: 7  Unnamed: 8  \\\n",
            "0         NaN         NaN         NaN         NaN         NaN   \n",
            "1         0.0         NaN         NaN         NaN         0.0   \n",
            "2         0.0         NaN         NaN         NaN         0.0   \n",
            "3         0.0         NaN         NaN         NaN         1.0   \n",
            "4         0.0         0.0         0.0         0.0         1.0   \n",
            "5         2.0         NaN         NaN         NaN         1.0   \n",
            "6         0.0         NaN         NaN         NaN         1.0   \n",
            "7         0.0         NaN         NaN         NaN         1.0   \n",
            "8         0.0         NaN         NaN         NaN        -1.0   \n",
            "9        -1.0         NaN         NaN         NaN        -2.0   \n",
            "\n",
            "   Середня оцінка тональності Примітки  \n",
            "0                         NaN      NaN  \n",
            "1                        0.60      NaN  \n",
            "2                        0.60      NaN  \n",
            "3                        0.60      NaN  \n",
            "4                        0.25      NaN  \n",
            "5                        1.40      NaN  \n",
            "6                        1.00      NaN  \n",
            "7                        0.80      NaN  \n",
            "8                       -0.20      NaN  \n",
            "9                       -1.80      NaN  \n"
          ]
        }
      ],
      "source": [
        "import pandas as pd\n",
        "import matplotlib.pyplot as plt\n",
        "import statistics\n",
        "ex_data = pd.read_excel('DictCopy.xlsx')\n",
        "print (ex_data[:10])"
      ]
    },
    {
      "cell_type": "code",
      "execution_count": 83,
      "id": "0ef6e485",
      "metadata": {
        "colab": {
          "base_uri": "https://localhost:8080/",
          "height": 373
        },
        "id": "0ef6e485",
        "outputId": "b6f4ba19-9cf9-4442-8ef6-f6fa3f8167d2"
      },
      "outputs": [
        {
          "output_type": "stream",
          "name": "stdout",
          "text": [
            "0.2403409090909091\n",
            "0.18666666666666665\n",
            "-0.028472222222222194\n"
          ]
        },
        {
          "output_type": "error",
          "ename": "KeyboardInterrupt",
          "evalue": "",
          "traceback": [
            "\u001b[0;31m---------------------------------------------------------------------------\u001b[0m",
            "\u001b[0;31mKeyboardInterrupt\u001b[0m                         Traceback (most recent call last)",
            "\u001b[0;32m<ipython-input-83-49aa1afc8784>\u001b[0m in \u001b[0;36m<cell line: 86>\u001b[0;34m()\u001b[0m\n\u001b[1;32m     84\u001b[0m   \u001b[0mdata\u001b[0m\u001b[0;34m[\u001b[0m\u001b[0;34m\"Calculations\"\u001b[0m\u001b[0;34m]\u001b[0m \u001b[0;34m=\u001b[0m \u001b[0mdata\u001b[0m\u001b[0;34m[\u001b[0m\u001b[0;34m\"Clean_text\"\u001b[0m\u001b[0;34m]\u001b[0m\u001b[0;34m.\u001b[0m\u001b[0mapply\u001b[0m\u001b[0;34m(\u001b[0m\u001b[0mcalculations\u001b[0m\u001b[0;34m)\u001b[0m\u001b[0;34m\u001b[0m\u001b[0;34m\u001b[0m\u001b[0m\n\u001b[1;32m     85\u001b[0m   \u001b[0;32mreturn\u001b[0m \u001b[0mdata\u001b[0m\u001b[0;34m\u001b[0m\u001b[0;34m\u001b[0m\u001b[0m\n\u001b[0;32m---> 86\u001b[0;31m \u001b[0mcomputedData\u001b[0m \u001b[0;34m=\u001b[0m \u001b[0msentComputing\u001b[0m\u001b[0;34m(\u001b[0m\u001b[0mcleanedData\u001b[0m\u001b[0;34m)\u001b[0m\u001b[0;34m\u001b[0m\u001b[0;34m\u001b[0m\u001b[0m\n\u001b[0m",
            "\u001b[0;32m<ipython-input-83-49aa1afc8784>\u001b[0m in \u001b[0;36msentComputing\u001b[0;34m(df)\u001b[0m\n\u001b[1;32m     82\u001b[0m \u001b[0;32mdef\u001b[0m \u001b[0msentComputing\u001b[0m\u001b[0;34m(\u001b[0m\u001b[0mdf\u001b[0m\u001b[0;34m)\u001b[0m\u001b[0;34m:\u001b[0m\u001b[0;34m\u001b[0m\u001b[0;34m\u001b[0m\u001b[0m\n\u001b[1;32m     83\u001b[0m   \u001b[0mdata\u001b[0m \u001b[0;34m=\u001b[0m \u001b[0mdf\u001b[0m\u001b[0;34m.\u001b[0m\u001b[0mcopy\u001b[0m\u001b[0;34m(\u001b[0m\u001b[0;34m)\u001b[0m\u001b[0;34m\u001b[0m\u001b[0;34m\u001b[0m\u001b[0m\n\u001b[0;32m---> 84\u001b[0;31m   \u001b[0mdata\u001b[0m\u001b[0;34m[\u001b[0m\u001b[0;34m\"Calculations\"\u001b[0m\u001b[0;34m]\u001b[0m \u001b[0;34m=\u001b[0m \u001b[0mdata\u001b[0m\u001b[0;34m[\u001b[0m\u001b[0;34m\"Clean_text\"\u001b[0m\u001b[0;34m]\u001b[0m\u001b[0;34m.\u001b[0m\u001b[0mapply\u001b[0m\u001b[0;34m(\u001b[0m\u001b[0mcalculations\u001b[0m\u001b[0;34m)\u001b[0m\u001b[0;34m\u001b[0m\u001b[0;34m\u001b[0m\u001b[0m\n\u001b[0m\u001b[1;32m     85\u001b[0m   \u001b[0;32mreturn\u001b[0m \u001b[0mdata\u001b[0m\u001b[0;34m\u001b[0m\u001b[0;34m\u001b[0m\u001b[0m\n\u001b[1;32m     86\u001b[0m \u001b[0mcomputedData\u001b[0m \u001b[0;34m=\u001b[0m \u001b[0msentComputing\u001b[0m\u001b[0;34m(\u001b[0m\u001b[0mcleanedData\u001b[0m\u001b[0;34m)\u001b[0m\u001b[0;34m\u001b[0m\u001b[0;34m\u001b[0m\u001b[0m\n",
            "\u001b[0;32m/usr/local/lib/python3.10/dist-packages/pandas/core/series.py\u001b[0m in \u001b[0;36mapply\u001b[0;34m(self, func, convert_dtype, args, **kwargs)\u001b[0m\n\u001b[1;32m   4628\u001b[0m         \u001b[0mdtype\u001b[0m\u001b[0;34m:\u001b[0m \u001b[0mfloat64\u001b[0m\u001b[0;34m\u001b[0m\u001b[0;34m\u001b[0m\u001b[0m\n\u001b[1;32m   4629\u001b[0m         \"\"\"\n\u001b[0;32m-> 4630\u001b[0;31m         \u001b[0;32mreturn\u001b[0m \u001b[0mSeriesApply\u001b[0m\u001b[0;34m(\u001b[0m\u001b[0mself\u001b[0m\u001b[0;34m,\u001b[0m \u001b[0mfunc\u001b[0m\u001b[0;34m,\u001b[0m \u001b[0mconvert_dtype\u001b[0m\u001b[0;34m,\u001b[0m \u001b[0margs\u001b[0m\u001b[0;34m,\u001b[0m \u001b[0mkwargs\u001b[0m\u001b[0;34m)\u001b[0m\u001b[0;34m.\u001b[0m\u001b[0mapply\u001b[0m\u001b[0;34m(\u001b[0m\u001b[0;34m)\u001b[0m\u001b[0;34m\u001b[0m\u001b[0;34m\u001b[0m\u001b[0m\n\u001b[0m\u001b[1;32m   4631\u001b[0m \u001b[0;34m\u001b[0m\u001b[0m\n\u001b[1;32m   4632\u001b[0m     def _reduce(\n",
            "\u001b[0;32m/usr/local/lib/python3.10/dist-packages/pandas/core/apply.py\u001b[0m in \u001b[0;36mapply\u001b[0;34m(self)\u001b[0m\n\u001b[1;32m   1023\u001b[0m \u001b[0;34m\u001b[0m\u001b[0m\n\u001b[1;32m   1024\u001b[0m         \u001b[0;31m# self.f is Callable\u001b[0m\u001b[0;34m\u001b[0m\u001b[0;34m\u001b[0m\u001b[0m\n\u001b[0;32m-> 1025\u001b[0;31m         \u001b[0;32mreturn\u001b[0m \u001b[0mself\u001b[0m\u001b[0;34m.\u001b[0m\u001b[0mapply_standard\u001b[0m\u001b[0;34m(\u001b[0m\u001b[0;34m)\u001b[0m\u001b[0;34m\u001b[0m\u001b[0;34m\u001b[0m\u001b[0m\n\u001b[0m\u001b[1;32m   1026\u001b[0m \u001b[0;34m\u001b[0m\u001b[0m\n\u001b[1;32m   1027\u001b[0m     \u001b[0;32mdef\u001b[0m \u001b[0magg\u001b[0m\u001b[0;34m(\u001b[0m\u001b[0mself\u001b[0m\u001b[0;34m)\u001b[0m\u001b[0;34m:\u001b[0m\u001b[0;34m\u001b[0m\u001b[0;34m\u001b[0m\u001b[0m\n",
            "\u001b[0;32m/usr/local/lib/python3.10/dist-packages/pandas/core/apply.py\u001b[0m in \u001b[0;36mapply_standard\u001b[0;34m(self)\u001b[0m\n\u001b[1;32m   1074\u001b[0m             \u001b[0;32melse\u001b[0m\u001b[0;34m:\u001b[0m\u001b[0;34m\u001b[0m\u001b[0;34m\u001b[0m\u001b[0m\n\u001b[1;32m   1075\u001b[0m                 \u001b[0mvalues\u001b[0m \u001b[0;34m=\u001b[0m \u001b[0mobj\u001b[0m\u001b[0;34m.\u001b[0m\u001b[0mastype\u001b[0m\u001b[0;34m(\u001b[0m\u001b[0mobject\u001b[0m\u001b[0;34m)\u001b[0m\u001b[0;34m.\u001b[0m\u001b[0m_values\u001b[0m\u001b[0;34m\u001b[0m\u001b[0;34m\u001b[0m\u001b[0m\n\u001b[0;32m-> 1076\u001b[0;31m                 mapped = lib.map_infer(\n\u001b[0m\u001b[1;32m   1077\u001b[0m                     \u001b[0mvalues\u001b[0m\u001b[0;34m,\u001b[0m\u001b[0;34m\u001b[0m\u001b[0;34m\u001b[0m\u001b[0m\n\u001b[1;32m   1078\u001b[0m                     \u001b[0mf\u001b[0m\u001b[0;34m,\u001b[0m\u001b[0;34m\u001b[0m\u001b[0;34m\u001b[0m\u001b[0m\n",
            "\u001b[0;32m/usr/local/lib/python3.10/dist-packages/pandas/_libs/lib.pyx\u001b[0m in \u001b[0;36mpandas._libs.lib.map_infer\u001b[0;34m()\u001b[0m\n",
            "\u001b[0;32m<ipython-input-83-49aa1afc8784>\u001b[0m in \u001b[0;36mcalculations\u001b[0;34m(text)\u001b[0m\n\u001b[1;32m     17\u001b[0m          \u001b[0;31m# print(text1)\u001b[0m\u001b[0;34m\u001b[0m\u001b[0;34m\u001b[0m\u001b[0m\n\u001b[1;32m     18\u001b[0m          \u001b[0;31m# print(calculation)\u001b[0m\u001b[0;34m\u001b[0m\u001b[0;34m\u001b[0m\u001b[0m\n\u001b[0;32m---> 19\u001b[0;31m         \u001b[0;32melif\u001b[0m \u001b[0mtext1\u001b[0m\u001b[0;34m[\u001b[0m\u001b[0mj\u001b[0m\u001b[0;34m]\u001b[0m \u001b[0;32min\u001b[0m \u001b[0mnegations\u001b[0m \u001b[0;32mand\u001b[0m \u001b[0mtext0\u001b[0m\u001b[0;34m[\u001b[0m\u001b[0mj\u001b[0m\u001b[0;34m]\u001b[0m\u001b[0;34m.\u001b[0m\u001b[0mhead\u001b[0m\u001b[0;34m.\u001b[0m\u001b[0mtext\u001b[0m \u001b[0;32min\u001b[0m \u001b[0mtext1\u001b[0m\u001b[0;34m:\u001b[0m\u001b[0;34m\u001b[0m\u001b[0;34m\u001b[0m\u001b[0m\n\u001b[0m\u001b[1;32m     20\u001b[0m             \u001b[0mmword_neg\u001b[0m \u001b[0;34m=\u001b[0m \u001b[0mtext0\u001b[0m\u001b[0;34m[\u001b[0m\u001b[0mj\u001b[0m\u001b[0;34m]\u001b[0m\u001b[0;34m.\u001b[0m\u001b[0mhead\u001b[0m\u001b[0;34m.\u001b[0m\u001b[0mtext\u001b[0m\u001b[0;34m\u001b[0m\u001b[0;34m\u001b[0m\u001b[0m\n\u001b[1;32m     21\u001b[0m             \u001b[0mresult1\u001b[0m \u001b[0;34m=\u001b[0m \u001b[0mex_data\u001b[0m\u001b[0;34m.\u001b[0m\u001b[0mloc\u001b[0m\u001b[0;34m[\u001b[0m\u001b[0mex_data\u001b[0m\u001b[0;34m[\u001b[0m\u001b[0;34m'Слово//словосполучення'\u001b[0m\u001b[0;34m]\u001b[0m \u001b[0;34m==\u001b[0m \u001b[0mmword_neg\u001b[0m\u001b[0;34m,\u001b[0m \u001b[0;34m'Середня оцінка тональності'\u001b[0m\u001b[0;34m]\u001b[0m\u001b[0;34m*\u001b[0m\u001b[0;34m(\u001b[0m\u001b[0;34m-\u001b[0m\u001b[0;36m1\u001b[0m\u001b[0;34m)\u001b[0m\u001b[0;34m\u001b[0m\u001b[0;34m\u001b[0m\u001b[0m\n",
            "\u001b[0;31mKeyboardInterrupt\u001b[0m: "
          ]
        }
      ],
      "source": [
        "def calculations(text):\n",
        "    text0 = nlp(text)\n",
        "    text1 = text.split()\n",
        "    #print(text1)\n",
        "    calculation = 0\n",
        "    length = len(text1)\n",
        "    j=0\n",
        "    while len(text1)>1:\n",
        "        if (text1[j] not in intensifiers and text1[j] not in negations and [str(i) for i in text0[j].children]==[]) or (text1[j] not in intensifiers and text1[j] not in negations and set(intensifiers).intersection([str(i) for i in text0[j].children])=={} and set(negations).intersection([str(i) for i in text0[j].children])=={}):\n",
        "          result = ex_data.loc[ex_data['Слово//словосполучення'] == text1[j], 'Середня оцінка тональності']\n",
        "        #  print(text1[j], result)\n",
        "          for i in result:\n",
        "            calculation+=i\n",
        "          text1[0] = text1[j]\n",
        "          text1.remove(text1[0])\n",
        "         # print(j)\n",
        "         # print(text1)\n",
        "         # print(calculation)\n",
        "        elif text1[j] in negations and text0[j].head.text in text1:\n",
        "            mword_neg = text0[j].head.text\n",
        "            result1 = ex_data.loc[ex_data['Слово//словосполучення'] == mword_neg, 'Середня оцінка тональності']*(-1)\n",
        "            for i in result1:\n",
        "              calculation+=i\n",
        "            if mword_neg in intensifiers:\n",
        "                result2 = ex_data.loc[ex_data['Слово//словосполучення'] == mword_neg.head.text, 'Середня оцінка тональності']\n",
        "                for i in result2:\n",
        "                  calculation+=i\n",
        "                text1.insert(0, text1[j])\n",
        "                text1.insert(0, mword_neg)\n",
        "                text1.insert(0, (text0[j].head.text).head.text)\n",
        "                text1.remove(text1[0])\n",
        "                text1.remove(text1[0])\n",
        "                text1.remove(text1[0])\n",
        "                j+=2\n",
        "            else:\n",
        "                for i in text0[j].head.text:\n",
        "                  if i in intensifiers:\n",
        "                    result2 += ex_data.loc[ex_data['Слово//словосполучення'] == i, 'Середня оцінка тональності']\n",
        "                    for k in result2:\n",
        "                      calculation+=k\n",
        "                    j+=1\n",
        "                text1.insert(0, text1[j])\n",
        "                text1.insert(0, mword_neg)\n",
        "                text1.remove(text1[0])\n",
        "                text1.remove(text1[0])\n",
        "                j+=2\n",
        "                calculation += result2\n",
        "        elif text1[j] in intensifiers and ((\"ні\" or \"не\") in [str(i) for i in text0[j].children]):\n",
        "          mword_neg = text0[j].head.text\n",
        "          result1 = ex_data.loc[ex_data['Слово//словосполучення'] == mword_neg, 'Середня оцінка тональності']*(-1)\n",
        "          result2 = ex_data.loc[ex_data['Слово//словосполучення'] == text1[j] , 'Середня оцінка тональності']+result1\n",
        "          for i in result1:\n",
        "            calculation+=(i*(-1))\n",
        "          for i in result2:\n",
        "            calculation+=i\n",
        "          print(text1[j])\n",
        "\n",
        "          text1.insert(0, text1[j])\n",
        "          text1.insert(0, mword_neg)\n",
        "          text1.remove(text1[0])\n",
        "          text1.remove(text1[0])\n",
        "          j+=1\n",
        "        elif text1[j] in intensifiers and ((\"ні\" or \"не\") not in [str(i) for i in text0[j].children]):\n",
        "          mword_intens = text0[j].head.text\n",
        "          result1 = ex_data.loc[ex_data['Слово//словосполучення'] == text1[j], 'Середня оцінка тональності']\n",
        "          result2 = ex_data.loc[ex_data['Слово//словосполучення'] ==  mword_intens , 'Середня оцінка тональності']\n",
        "          for i in result1:\n",
        "            calculation+=i\n",
        "          for i in result2:\n",
        "            calculation+=i\n",
        "          print(text1[j])\n",
        "          text1.insert(0, text1[j])\n",
        "          text1.insert(0, mword_intens)\n",
        "          text1.remove(text1[0])\n",
        "          text1.remove(text1[0])\n",
        "          calculation += result2\n",
        "          j+=2\n",
        "    #j += 1\n",
        "    print(calculation/length)\n",
        "    return calculation/length\n",
        "\n",
        "def sentComputing(df):\n",
        "  data = df.copy()\n",
        "  data[\"Calculations\"] = data[\"Clean_text\"].apply(calculations)\n",
        "  return data\n",
        "computedData = sentComputing(cleanedData)"
      ]
    },
    {
      "cell_type": "code",
      "source": [
        "def calculations1(text):\n",
        "    text1 = text.split()\n",
        "    calculation = 0\n",
        "    j = -1\n",
        "    length = len(text1)\n",
        "    while j >= (-len(text1)):\n",
        "      if text1[j] not in negations and text1[j] not in intensifiers:\n",
        "        result = ex_data.loc[ex_data['Слово//словосполучення'] == text1[j], 'Середня оцінка тональності']\n",
        "        for i in result:\n",
        "          calculation+=i\n",
        "      elif text1[j] in intensifiers:\n",
        "        result1 = ex_data.loc[ex_data['Слово//словосполучення'] == text1[j], 'Середня оцінка тональності']\n",
        "        for i in result1:\n",
        "          calculation*=i\n",
        "      elif text1[j] in negations:\n",
        "        calculation*=(-1)\n",
        "      j-=1\n",
        "    if length == 0:\n",
        "      return 0\n",
        "    else:\n",
        "      return calculation/length\n",
        "def sentComputing(df):\n",
        "  data = df.copy()\n",
        "  data[\"Calculations\"] = data[\"Clean_text\"].apply(calculations1)\n",
        "  return data\n",
        "computedData = sentComputing(cleanedData)"
      ],
      "metadata": {
        "id": "Kv9Calo3kmin"
      },
      "id": "Kv9Calo3kmin",
      "execution_count": 107,
      "outputs": []
    },
    {
      "cell_type": "code",
      "execution_count": 111,
      "id": "vW4tmXrNpDIq",
      "metadata": {
        "colab": {
          "base_uri": "https://localhost:8080/"
        },
        "id": "vW4tmXrNpDIq",
        "outputId": "6e150f73-6516-4015-9ade-53ba0a407c73"
      },
      "outputs": [
        {
          "output_type": "stream",
          "name": "stdout",
          "text": [
            "                                                   Text  \\\n",
            "0     🔴 Оперативне зведення Генштабу станом на 00:00...   \n",
            "1     💪 🏻 Збройні Сили України впродовж минулої доби...   \n",
            "2     Нацгвардійці захопили техніку загарбників на Л...   \n",
            "3     😄 Вірменія , Казахстан та Киргизстан вимагають...   \n",
            "4     Міністри культури ЄСпросять ЮНЕСКО перенести 4...   \n",
            "...                                                 ...   \n",
            "5467  Постачальники овочів та фруктів заявляють , що...   \n",
            "5468  Знайомтеся з Ремом , цього цуцика врятував у Б...   \n",
            "5469  ⚡ Українські захисники відбили атаки противник...   \n",
            "5470  Участь у саміті G20 , який восени відбудеться ...   \n",
            "5471                                                      \n",
            "\n",
            "                                             Clean_text  Calculations  \n",
            "0     оперативний зведення генштаб стан березень гол...      0.240341  \n",
            "1     збройний сила україна минулий доба березень зн...      0.240000  \n",
            "2     нацгвардієць захопити технік загарбник луганщи...     -0.028472  \n",
            "3     радість вірменія казахстан киргизстан вимагати...      0.218750  \n",
            "4     міністр культура єспросити юнеско перенести се...      0.347727  \n",
            "...                                                 ...           ...  \n",
            "5467  постачальник овоч фрукт заявляти восени можлив...      0.396250  \n",
            "5468  знайомитися рем цуцик врятувати бахмут обстріл...      0.276087  \n",
            "5469  український захисник відбити атака противник б...      0.127027  \n",
            "5470  участь саміт восени відбутися індонезія залежа...      0.109314  \n",
            "5471                                                         0.000000  \n",
            "\n",
            "[5472 rows x 3 columns]\n"
          ]
        }
      ],
      "source": [
        "print(computedData)"
      ]
    },
    {
      "cell_type": "code",
      "execution_count": 113,
      "id": "3b887d6d",
      "metadata": {
        "id": "3b887d6d"
      },
      "outputs": [],
      "source": [
        "def labelling(computation):\n",
        "  label = ''\n",
        "  if computation > 0:\n",
        "    label = 'позитивний'\n",
        "  elif computation < 0:\n",
        "    label = 'негативний'\n",
        "  elif computation == 0:\n",
        "    label = 'абсолютно нейтральний'\n",
        "  return label\n",
        "\n",
        "\n",
        "def sentlabelling(df):\n",
        "  data = df.copy()\n",
        "  data[\"Label\"] = data[\"Calculations\"].apply(labelling)\n",
        "  return data\n",
        "labeledData = sentlabelling(computedData)"
      ]
    },
    {
      "cell_type": "code",
      "source": [
        "print(labeledData)"
      ],
      "metadata": {
        "colab": {
          "base_uri": "https://localhost:8080/"
        },
        "id": "UdHwumurMgqZ",
        "outputId": "7ac24d15-6628-43f2-f466-b58188e1b86d"
      },
      "id": "UdHwumurMgqZ",
      "execution_count": 114,
      "outputs": [
        {
          "output_type": "stream",
          "name": "stdout",
          "text": [
            "                                                   Text  \\\n",
            "0     🔴 Оперативне зведення Генштабу станом на 00:00...   \n",
            "1     💪 🏻 Збройні Сили України впродовж минулої доби...   \n",
            "2     Нацгвардійці захопили техніку загарбників на Л...   \n",
            "3     😄 Вірменія , Казахстан та Киргизстан вимагають...   \n",
            "4     Міністри культури ЄСпросять ЮНЕСКО перенести 4...   \n",
            "...                                                 ...   \n",
            "5467  Постачальники овочів та фруктів заявляють , що...   \n",
            "5468  Знайомтеся з Ремом , цього цуцика врятував у Б...   \n",
            "5469  ⚡ Українські захисники відбили атаки противник...   \n",
            "5470  Участь у саміті G20 , який восени відбудеться ...   \n",
            "5471                                                      \n",
            "\n",
            "                                             Clean_text  Calculations  \\\n",
            "0     оперативний зведення генштаб стан березень гол...      0.240341   \n",
            "1     збройний сила україна минулий доба березень зн...      0.240000   \n",
            "2     нацгвардієць захопити технік загарбник луганщи...     -0.028472   \n",
            "3     радість вірменія казахстан киргизстан вимагати...      0.218750   \n",
            "4     міністр культура єспросити юнеско перенести се...      0.347727   \n",
            "...                                                 ...           ...   \n",
            "5467  постачальник овоч фрукт заявляти восени можлив...      0.396250   \n",
            "5468  знайомитися рем цуцик врятувати бахмут обстріл...      0.276087   \n",
            "5469  український захисник відбити атака противник б...      0.127027   \n",
            "5470  участь саміт восени відбутися індонезія залежа...      0.109314   \n",
            "5471                                                         0.000000   \n",
            "\n",
            "                      Label  \n",
            "0                позитивний  \n",
            "1                позитивний  \n",
            "2                негативний  \n",
            "3                позитивний  \n",
            "4                позитивний  \n",
            "...                     ...  \n",
            "5467             позитивний  \n",
            "5468             позитивний  \n",
            "5469             позитивний  \n",
            "5470             позитивний  \n",
            "5471  абсолютно нейтральний  \n",
            "\n",
            "[5472 rows x 4 columns]\n"
          ]
        }
      ]
    },
    {
      "cell_type": "code",
      "execution_count": 123,
      "id": "8503821f",
      "metadata": {
        "id": "8503821f",
        "outputId": "6550782b-c861-4406-eaba-b8f157b74b59",
        "colab": {
          "base_uri": "https://localhost:8080/",
          "height": 633
        }
      },
      "outputs": [
        {
          "output_type": "execute_result",
          "data": {
            "text/plain": [
              "<Axes: xlabel='Label'>"
            ]
          },
          "metadata": {},
          "execution_count": 123
        },
        {
          "output_type": "display_data",
          "data": {
            "text/plain": [
              "<Figure size 640x480 with 1 Axes>"
            ],
            "image/png": "[encoded data removed]"
          },
          "metadata": {}
        }
      ],
      "source": [
        "#labeledData.groupby(labeledData['Label']).count().plot(kind='bar')\n",
        "s = labeledData['Label'].value_counts().sort_index()\n",
        "s.plot(kind='bar')"
      ]
    },
    {
      "cell_type": "code",
      "execution_count": null,
      "id": "78a57f83",
      "metadata": {
        "id": "78a57f83",
        "outputId": "31af720e-91fb-4f16-8d2d-becc57483307"
      },
      "outputs": [
        {
          "name": "stdout",
          "output_type": "stream",
          "text": [
            "Requirement already satisfied: openpyxl in c:\\users\\arika\\anaconda3\\lib\\site-packages (3.0.7)\n",
            "Requirement already satisfied: et-xmlfile in c:\\users\\arika\\anaconda3\\lib\\site-packages (from openpyxl) (1.0.1)\n"
          ]
        }
      ],
      "source": [
        "!pip install openpyxl\n",
        "from openpyxl import Workbook\n",
        "from openpyxl import load_workbook\n",
        "\n",
        "wb = Workbook()\n",
        "wb.save('Датасет_тональностей.xlsx')\n",
        "wb = load_workbook('Датасет_тональностей.xlsx')\n",
        "sheet = wb.active\n",
        "sheet.append(('Текст', 'Оцінка', 'Дата та час'))\n",
        "sheet.append([user_text, mean_eval, dt_string])\n",
        "wb.save('База_текстів.xlsx')"
      ]
    },
    {
      "cell_type": "code",
      "execution_count": 124,
      "id": "fca57cf4",
      "metadata": {
        "id": "fca57cf4",
        "colab": {
          "base_uri": "https://localhost:8080/"
        },
        "outputId": "203b707a-c133-494e-e31b-42460ba031ac"
      },
      "outputs": [
        {
          "output_type": "stream",
          "name": "stdout",
          "text": [
            "DataFrame is written to Excel File successfully.\n"
          ]
        }
      ],
      "source": [
        "file_name = 'Датасет_тональностей.xlsx'\n",
        "\n",
        "# saving the excel\n",
        "labeledData.to_excel(file_name)\n",
        "print('DataFrame is written to Excel File successfully.')"
      ]
    }
  ],
  "metadata": {
    "colab": {
      "provenance": []
    },
    "kernelspec": {
      "display_name": "Python 3",
      "language": "python",
      "name": "python3"
    },
    "language_info": {
      "codemirror_mode": {
        "name": "ipython",
        "version": 3
      },
      "file_extension": ".py",
      "mimetype": "text/x-python",
      "name": "python",
      "nbconvert_exporter": "python",
      "pygments_lexer": "ipython3",
      "version": "3.8.8"
    }
  },
  "nbformat": 4,
  "nbformat_minor": 5
}